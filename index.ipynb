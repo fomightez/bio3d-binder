{
 "cells": [
  {
   "cell_type": "markdown",
   "metadata": {},
   "source": [
    "# Using the Bio3D package\n",
    "\n",
    "Demonstration of using the [Bio3D](http://thegrantlab.org/bio3d/index.php), an R package for the analysis of macromolecular structure, sequence and trajectory data, in a notebook with an R kernel.\n",
    "\n",
    "**NO INSTALLS NEEDED IF YOU LAUNCHED THIS FROM** [HERE](https://github.com/fomightez/bio3d-binder).\n",
    "\n",
    "Resources:\n",
    "- [Main Bio3D site](http://thegrantlab.org/bio3d/index.php) - has many resources\n",
    "- [Bio3D's Package index](https://rdrr.io/cran/bio3d/) where you can search and examples of steps are available\n",
    "\n",
    "Run the cell below.\n",
    "\n",
    "Alternatively, using RStudio to run this content:\n",
    "\n",
    "* Edit the URL in the address bar of your browser to replace `notebooks/index.ipynb` with `rstudio`.\n",
    "* Then open the script `bio3d_use.R` because it contains the same script as the cell below will run.\n"
   ]
  },
  {
   "cell_type": "code",
   "execution_count": null,
   "metadata": {},
   "outputs": [],
   "source": [
    "# Prepare to use the bio3D package\n",
    "library(bio3d)\n",
    "library(XML) #needed for using `pdbaln`\n",
    "\n",
    "\n",
    "\n",
    "\n",
    "\n",
    "\n",
    "# Obtain (but not save source) and Split yeast RNase P cryo-EM structure into chains\n",
    "#get.pdb(\"6AGB\")\n",
    "pdbsplit( get.pdb(\"6AGB\", URLonly=TRUE) ) # from https://rdrr.io/cran/bio3d/man/pdbsplit.html; `URLonly=TRUE` means\n",
    "# it doesn't actually download source file too\n",
    "\n",
    "\n",
    "\n",
    "\n",
    "\n",
    "\n",
    "\n",
    "# Coordinate superposition and structural alignment\n",
    "# Example of superpose / superimposing structre / fitting; from https://rdrr.io/cran/bio3d/man/pdbfit.html\n",
    "files <- get.pdb(c(\"4q21\",\"5p21\"), path=tempdir(), overwrite=TRUE)\n",
    "pdbs <- pdbaln(files, web.args=list(email='decaturw@upstate.edu')) #based on http://thegrantlab.org/bio3d/html/seqaln.html ; required XML package from CRAN\n",
    "xyz <- pdbfit(pdbs)\n",
    "\n",
    "# Superpose again this time outputing all-atom PDBs to disc\n",
    "xyz <- pdbfit( pdbs, outpath=\"fitted\" )"
   ]
  },
  {
   "cell_type": "markdown",
   "metadata": {},
   "source": [
    "----- \n",
    "\n",
    "See [`Bio3D and Python in same notebook examples.ipynb`](https://hub.mybinder.org/user/fomightez-bio3d-binder-x37mupdl/notebooks/Bio3D%20and%20Python%20in%20same%20notebook%20examples.ipynb) for advanced use where R-based Bio3D package use combined with the use of the Bash Shell (and Python?) in same Jupyter notebook."
   ]
  },
  {
   "cell_type": "code",
   "execution_count": null,
   "metadata": {},
   "outputs": [],
   "source": []
  }
 ],
 "metadata": {
  "kernelspec": {
   "display_name": "R",
   "language": "R",
   "name": "ir"
  },
  "language_info": {
   "codemirror_mode": "r",
   "file_extension": ".r",
   "mimetype": "text/x-r-source",
   "name": "R",
   "pygments_lexer": "r",
   "version": "3.4.4"
  }
 },
 "nbformat": 4,
 "nbformat_minor": 2
}
