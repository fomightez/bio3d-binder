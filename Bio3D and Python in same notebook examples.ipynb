{
 "cells": [
  {
   "cell_type": "markdown",
   "metadata": {},
   "source": [
    "# Bio3D and Python in same notebook examples\n",
    "\n",
    "Combining use of Bio3D and Python in same notebook, based on '21. Running R and Python in the same notebook' from [here](https://www.dataquest.io/blog/jupyter-notebook-tips-tricks-shortcuts/).\n",
    "\n",
    "(Note that here we use the `Python 3` kernel. In the [`Using the Bio3D package` notebook](https://hub.mybinder.org/user/fomightez-bio3d-binder-x37mupdl/notebooks/index.ipynb#Using-the-bio3D-package) the IRkernel was used (R-based).)"
   ]
  },
  {
   "cell_type": "markdown",
   "metadata": {},
   "source": [
    "-----\n",
    "\n",
    "## Preparation "
   ]
  },
  {
   "cell_type": "code",
   "execution_count": 1,
   "metadata": {},
   "outputs": [
    {
     "name": "stdout",
     "output_type": "stream",
     "text": [
      "Requirement already satisfied: rpy2 in /srv/conda/lib/python3.6/site-packages (2.9.4)\r\n",
      "Requirement already satisfied: jinja2 in /srv/conda/lib/python3.6/site-packages (from rpy2) (2.10)\r\n",
      "Requirement already satisfied: six in /srv/conda/lib/python3.6/site-packages (from rpy2) (1.11.0)\r\n",
      "Requirement already satisfied: MarkupSafe>=0.23 in /srv/conda/lib/python3.6/site-packages (from jinja2->rpy2) (1.0)\r\n"
     ]
    }
   ],
   "source": [
    "!pip install rpy2"
   ]
  },
  {
   "cell_type": "code",
   "execution_count": 2,
   "metadata": {},
   "outputs": [
    {
     "name": "stderr",
     "output_type": "stream",
     "text": [
      "/srv/conda/lib/python3.6/site-packages/rpy2/ipython/rmagic.py:80: UserWarning: The Python package 'pandas' is strongly recommended when using `rpy2.ipython`. Unfortunately it could not be loaded, as we did not manage to load 'numpy' first.\n",
      "  \"first.\")))\n"
     ]
    }
   ],
   "source": [
    "%load_ext rpy2.ipython"
   ]
  },
  {
   "cell_type": "code",
   "execution_count": 3,
   "metadata": {},
   "outputs": [
    {
     "name": "stderr",
     "output_type": "stream",
     "text": [
      "/srv/conda/lib/python3.6/site-packages/rpy2/rinterface/__init__.py:146: RRuntimeWarning: \n",
      "Attaching package: ‘XML’\n",
      "\n",
      "\n",
      "  warnings.warn(x, RRuntimeWarning)\n",
      "/srv/conda/lib/python3.6/site-packages/rpy2/rinterface/__init__.py:146: RRuntimeWarning: The following object is masked from ‘package:tools’:\n",
      "\n",
      "    toHTML\n",
      "\n",
      "\n",
      "  warnings.warn(x, RRuntimeWarning)\n"
     ]
    }
   ],
   "source": [
    "# Prepare to use the bio3D package\n",
    "%R library(bio3d)\n",
    "%R library(XML) #needed for using `pdbaln`;"
   ]
  },
  {
   "cell_type": "markdown",
   "metadata": {},
   "source": [
    "-----"
   ]
  },
  {
   "cell_type": "markdown",
   "metadata": {},
   "source": [
    "## Split structures and collect files into easily downloadable archives"
   ]
  },
  {
   "cell_type": "code",
   "execution_count": 4,
   "metadata": {},
   "outputs": [
    {
     "data": {
      "text/plain": [
       "\r",
       "  |                                                                            \r",
       "  |                                                                      |   0%\r",
       "  |                                                                            \r",
       "  |======                                                                |   9%\r",
       "  |                                                                            \r",
       "  |=============                                                         |  18%\r",
       "  |                                                                            \r",
       "  |===================                                                   |  27%\r",
       "  |                                                                            \r",
       "  |=========================                                             |  36%\r",
       "  |                                                                            \r",
       "  |================================                                      |  45%\r",
       "  |                                                                            \r",
       "  |======================================                                |  55%\r",
       "  |                                                                            \r",
       "  |=============================================                         |  64%\r",
       "  |                                                                            \r",
       "  |===================================================                   |  73%\r",
       "  |                                                                            \r",
       "  |=========================================================             |  82%\r",
       "  |                                                                            \r",
       "  |================================================================      |  91%\n"
      ]
     },
     "metadata": {},
     "output_type": "display_data"
    }
   ],
   "source": [
    "# Obtain (but not save source) and Split yeast RNase P cryo-EM structure into chains\n",
    "#get.pdb(\"6AGB\")\n",
    "%R pdbsplit( get.pdb(\"6AGB\", URLonly=TRUE) ) \n",
    "# above from https://rdrr.io/cran/bio3d/man/pdbsplit.html; `URLonly=TRUE` mean it doesn't actually download source file too"
   ]
  },
  {
   "cell_type": "code",
   "execution_count": 5,
   "metadata": {},
   "outputs": [
    {
     "name": "stdout",
     "output_type": "stream",
     "text": [
      "mv: cannot move 'split_chain' to '6AGB_chains/split_chain': Directory not empty\r\n"
     ]
    }
   ],
   "source": [
    "!mv split_chain 6AGB_chains\n",
    "!tar czf 6AGB_chains.tar.gz 6AGB_chains/"
   ]
  },
  {
   "cell_type": "code",
   "execution_count": 6,
   "metadata": {},
   "outputs": [
    {
     "data": {
      "text/plain": [
       "\r",
       "  |                                                                            \r",
       "  |                                                                      |   0%\r",
       "  |                                                                            \r",
       "  |======                                                                |   8%\r",
       "  |                                                                            \r",
       "  |============                                                          |  17%\r",
       "  |                                                                            \r",
       "  |==================                                                    |  25%\r",
       "  |                                                                            \r",
       "  |=======================                                               |  33%\r",
       "  |                                                                            \r",
       "  |=============================                                         |  42%\r",
       "  |                                                                            \r",
       "  |===================================                                   |  50%\r",
       "  |                                                                            \r",
       "  |=========================================                             |  58%\r",
       "  |                                                                            \r",
       "  |===============================================                       |  67%\r",
       "  |                                                                            \r",
       "  |====================================================                  |  75%\r",
       "  |                                                                            \r",
       "  |==========================================================            |  83%\r",
       "  |                                                                            \r",
       "  |================================================================      |  92%\r",
       "  |                                                                            \r",
       "  |======================================================================| 100%\n"
      ]
     },
     "metadata": {},
     "output_type": "display_data"
    }
   ],
   "source": [
    "# Obtain (but not save source) and Split yeast RNase P + tRNA cryo-EM structure into chains\n",
    "#get.pdb(\"6AH3\")\n",
    "%R pdbsplit( get.pdb(\"6AH3\", URLonly=TRUE) ) \n",
    "# above from https://rdrr.io/cran/bio3d/man/pdbsplit.html; `URLonly=TRUE` mean it doesn't actually download source file too"
   ]
  },
  {
   "cell_type": "code",
   "execution_count": 7,
   "metadata": {},
   "outputs": [
    {
     "name": "stdout",
     "output_type": "stream",
     "text": [
      "mv: cannot move 'split_chain' to '6AH3_chains/split_chain': Directory not empty\r\n"
     ]
    }
   ],
   "source": [
    "!mv split_chain 6AH3_chains\n",
    "!tar czf 6AH3_chains.tar.gz 6AH3_chains/"
   ]
  },
  {
   "cell_type": "markdown",
   "metadata": {},
   "source": [
    "Download the two gzipped tarballed archives to your local machine."
   ]
  }
 ],
 "metadata": {
  "kernelspec": {
   "display_name": "Python 3",
   "language": "python",
   "name": "python3"
  },
  "language_info": {
   "codemirror_mode": {
    "name": "ipython",
    "version": 3
   },
   "file_extension": ".py",
   "mimetype": "text/x-python",
   "name": "python",
   "nbconvert_exporter": "python",
   "pygments_lexer": "ipython3",
   "version": "3.6.6"
  }
 },
 "nbformat": 4,
 "nbformat_minor": 2
}
